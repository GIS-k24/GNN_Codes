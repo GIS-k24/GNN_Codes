{
 "cells": [
  {
   "cell_type": "markdown",
   "metadata": {},
   "source": [
    "# 图游走算法"
   ]
  },
  {
   "cell_type": "markdown",
   "metadata": {},
   "source": [
    "### Deepwalk"
   ]
  },
  {
   "cell_type": "code",
   "execution_count": 1,
   "metadata": {},
   "outputs": [
    {
     "name": "stderr",
     "output_type": "stream",
     "text": [
      "c:\\users\\sss\\appdata\\local\\programs\\python\\python36\\lib\\site-packages\\gensim\\similarities\\__init__.py:15: UserWarning: The gensim.similarities.levenshtein submodule is disabled, because the optional Levenshtein package <https://pypi.org/project/python-Levenshtein/> is unavailable. Install Levenhstein (e.g. `pip install python-Levenshtein`) to suppress this warning.\n",
      "  warnings.warn(msg)\n"
     ]
    }
   ],
   "source": [
    "import networkx as nx\n",
    "import numpy as np\n",
    "from tqdm import tqdm\n",
    "from gensim.models import word2vec\n",
    "import matplotlib.pyplot as plt"
   ]
  },
  {
   "cell_type": "code",
   "execution_count": 2,
   "metadata": {},
   "outputs": [],
   "source": [
    "def walkOneTime(g, start_node, walk_length):\n",
    "    walk = [str(start_node)]\n",
    "    for _ in range(walk_length):\n",
    "        current_node = int(walk[-1])\n",
    "        successors = list(g.successors(current_node))\n",
    "        if len(successors) > 0:\n",
    "            next_node = np.random.choice(successors, 1)\n",
    "            walk.extend([str(n) for n in next_node])\n",
    "    return walk"
   ]
  },
  {
   "cell_type": "code",
   "execution_count": 3,
   "metadata": {},
   "outputs": [],
   "source": [
    "def getDeepwalkSeqs(g, walk_length, num_walks):\n",
    "    seqs = []\n",
    "    for _ in tqdm(range(num_walks)):\n",
    "        start_node = np.random.choice(g.nodes)\n",
    "        w = walkOneTime(g, start_node, walk_length)\n",
    "        seqs.append(w)\n",
    "    return seqs"
   ]
  },
  {
   "cell_type": "code",
   "execution_count": 4,
   "metadata": {},
   "outputs": [],
   "source": [
    "def deepwalk(g, dimensions=10, walk_length=80, num_walks=10, min_count=3):\n",
    "    seqs = getDeepwalkSeqs(g, walk_length=walk_length, num_walks=num_walks)\n",
    "    model = word2vec.Word2Vec(seqs, vector_size=dimensions, min_count=min_count)\n",
    "    return model"
   ]
  },
  {
   "cell_type": "code",
   "execution_count": 5,
   "metadata": {},
   "outputs": [],
   "source": [
    "# 随机生成有向图\n",
    "g = nx.fast_gnp_random_graph(n=100, p=0.5, directed=True)"
   ]
  },
  {
   "cell_type": "code",
   "execution_count": 6,
   "metadata": {},
   "outputs": [],
   "source": [
    "def img(graph):\n",
    "    nx.draw(graph, with_labels=True)\n",
    "    plt.show()"
   ]
  },
  {
   "cell_type": "code",
   "execution_count": 7,
   "metadata": {},
   "outputs": [
    {
     "data": {
      "text/plain": [
       "'\\ng.nodes() # 节点\\ng.edges() # 边\\ng.number_of_edges() # 边数\\n'"
      ]
     },
     "execution_count": 7,
     "metadata": {},
     "output_type": "execute_result"
    }
   ],
   "source": [
    "\"\"\"\n",
    "g.nodes() # 节点\n",
    "g.edges() # 边\n",
    "g.number_of_edges() # 边数\n",
    "\"\"\""
   ]
  },
  {
   "cell_type": "code",
   "execution_count": 8,
   "metadata": {},
   "outputs": [
    {
     "name": "stderr",
     "output_type": "stream",
     "text": [
      "100%|███████████████████████████████████████████████████████████████████████████████| 100/100 [00:00<00:00, 871.88it/s]"
     ]
    },
    {
     "name": "stdout",
     "output_type": "stream",
     "text": [
      "[('15', 0.7530400156974792), ('56', 0.7324971556663513), ('28', 0.7142529487609863)]\n"
     ]
    },
    {
     "name": "stderr",
     "output_type": "stream",
     "text": [
      "\n"
     ]
    }
   ],
   "source": [
    "model = deepwalk(g, dimensions=10, walk_length=20, num_walks=100, min_count=3)\n",
    "print(model.wv.most_similar(\"2\", topn=3)) # 与“2”最接近的三个节点"
   ]
  },
  {
   "cell_type": "code",
   "execution_count": 9,
   "metadata": {},
   "outputs": [
    {
     "data": {
      "text/plain": [
       "'\\n# 把 emd 存储下来用于下游任务\\nmodel.wv.save_word2vec_format(\\'e.emd\\')\\n# 存储模型\\nmodel.save(\"m.model\")\\n'"
      ]
     },
     "execution_count": 9,
     "metadata": {},
     "output_type": "execute_result"
    }
   ],
   "source": [
    "\"\"\"\n",
    "# 把 emd 存储下来用于下游任务\n",
    "model.wv.save_word2vec_format('e.emd')\n",
    "# 存储模型\n",
    "model.save(\"m.model\")\n",
    "\"\"\""
   ]
  },
  {
   "cell_type": "markdown",
   "metadata": {},
   "source": [
    "### Node2Vec"
   ]
  },
  {
   "cell_type": "code",
   "execution_count": 10,
   "metadata": {},
   "outputs": [],
   "source": [
    "from node2vec import Node2Vec"
   ]
  },
  {
   "cell_type": "code",
   "execution_count": 13,
   "metadata": {},
   "outputs": [],
   "source": [
    "# 生成一个无向图\n",
    "graph = nx.fast_gnp_random_graph(n=100, p=0.5)"
   ]
  },
  {
   "cell_type": "code",
   "execution_count": 29,
   "metadata": {},
   "outputs": [
    {
     "data": {
      "application/vnd.jupyter.widget-view+json": {
       "model_id": "c882702978834f3bb41e23122aa11c84",
       "version_major": 2,
       "version_minor": 0
      },
      "text/plain": [
       "HBox(children=(FloatProgress(value=0.0, description='Computing transition probabilities', style=ProgressStyle(…"
      ]
     },
     "metadata": {},
     "output_type": "display_data"
    },
    {
     "name": "stderr",
     "output_type": "stream",
     "text": [
      "Generating walks (CPU: 1):   2%|█                                                      | 2/100 [00:00<00:08, 11.66it/s]"
     ]
    },
    {
     "name": "stdout",
     "output_type": "stream",
     "text": [
      "\n"
     ]
    },
    {
     "name": "stderr",
     "output_type": "stream",
     "text": [
      "Generating walks (CPU: 1): 100%|█████████████████████████████████████████████████████| 100/100 [00:18<00:00,  5.53it/s]\n"
     ]
    }
   ],
   "source": [
    "node2vec = Node2Vec(graph, dimensions=64, walk_length=30, num_walks=100, p=0.5, q=0.7, workers=1) # 初始化模型\n",
    "model = node2vec.fit() # 训练模型"
   ]
  },
  {
   "cell_type": "markdown",
   "metadata": {},
   "source": [
    "- 节点相似度"
   ]
  },
  {
   "cell_type": "code",
   "execution_count": 30,
   "metadata": {},
   "outputs": [
    {
     "name": "stdout",
     "output_type": "stream",
     "text": [
      "[('28', 0.6456018090248108), ('15', 0.5819611549377441), ('37', 0.559927225112915), ('67', 0.5542974472045898), ('61', 0.5529149174690247), ('99', 0.5485485792160034), ('30', 0.5466107130050659), ('19', 0.5418100953102112), ('59', 0.540520191192627), ('52', 0.5404849648475647)]\n"
     ]
    }
   ],
   "source": [
    "print(model.wv.most_similar(\"2\",\n",
    "                            # 与“2”最相近的三个节点\n",
    "#                             topn=3 \n",
    "                         ))"
   ]
  },
  {
   "cell_type": "markdown",
   "metadata": {},
   "source": [
    "- 单节点编码"
   ]
  },
  {
   "cell_type": "code",
   "execution_count": 55,
   "metadata": {
    "scrolled": false
   },
   "outputs": [
    {
     "data": {
      "text/plain": [
       "array([-0.05670424, -0.11776148,  0.16466549,  0.17130235,  0.14641602,\n",
       "        0.10605874,  0.0537626 , -0.14051244, -0.1390336 ,  0.08914851,\n",
       "        0.05887314, -0.3729583 , -0.22055124,  0.04805889, -0.0421535 ,\n",
       "        0.2025673 , -0.0648834 ,  0.05988329,  0.08195539,  0.22886425,\n",
       "        0.1707751 ,  0.19753553,  0.07320962, -0.13405655, -0.28439248,\n",
       "       -0.12541465, -0.09076144, -0.10836741, -0.14354342,  0.11156682,\n",
       "        0.02959628, -0.03083695, -0.13827212, -0.08467235, -0.0039972 ,\n",
       "        0.07067358,  0.04685776, -0.16219348,  0.10639705,  0.14086273,\n",
       "       -0.09025347, -0.10162745,  0.12622674, -0.13905063,  0.14360055,\n",
       "       -0.15669487,  0.15933496,  0.0879701 ,  0.13707766, -0.10728742,\n",
       "        0.06012687, -0.16697957,  0.22834174,  0.09986109,  0.11671104,\n",
       "        0.06285142, -0.01544343,  0.06305712, -0.00293846,  0.3721547 ,\n",
       "       -0.01034816, -0.07619656, -0.17395972, -0.12744948], dtype=float32)"
      ]
     },
     "execution_count": 55,
     "metadata": {},
     "output_type": "execute_result"
    }
   ],
   "source": [
    "\"\"\"\n",
    "for node in graph.nodes():\n",
    "    print(model.wv[node].shape)\n",
    "\"\"\"\n",
    "    \n",
    "model.wv[\"1\"]"
   ]
  },
  {
   "cell_type": "markdown",
   "metadata": {},
   "source": [
    "- 寻找节点与“1、2”相似、与“3”不相似的"
   ]
  },
  {
   "cell_type": "code",
   "execution_count": 44,
   "metadata": {
    "scrolled": true
   },
   "outputs": [
    {
     "data": {
      "text/plain": [
       "[('28', 0.4699561595916748)]"
      ]
     },
     "execution_count": 44,
     "metadata": {},
     "output_type": "execute_result"
    }
   ],
   "source": [
    "model.wv.most_similar(positive=['1', '2'], negative=['3'], topn=1)"
   ]
  },
  {
   "cell_type": "markdown",
   "metadata": {},
   "source": [
    "- “1 2 3 4”集合中不相似的节点"
   ]
  },
  {
   "cell_type": "code",
   "execution_count": 57,
   "metadata": {
    "scrolled": true
   },
   "outputs": [
    {
     "data": {
      "text/plain": [
       "'3'"
      ]
     },
     "execution_count": 57,
     "metadata": {},
     "output_type": "execute_result"
    }
   ],
   "source": [
    "model.wv.doesnt_match(\"1 2 3 4\".split())"
   ]
  },
  {
   "cell_type": "markdown",
   "metadata": {},
   "source": [
    "- 节点“1”和“2”的相似度"
   ]
  },
  {
   "cell_type": "code",
   "execution_count": 47,
   "metadata": {
    "scrolled": true
   },
   "outputs": [
    {
     "data": {
      "text/plain": [
       "0.37870058"
      ]
     },
     "execution_count": 47,
     "metadata": {},
     "output_type": "execute_result"
    }
   ],
   "source": [
    "model.wv.similarity('1', '2')"
   ]
  },
  {
   "cell_type": "markdown",
   "metadata": {},
   "source": [
    "- 两个集合“list1”和“list2”的余弦相似度"
   ]
  },
  {
   "cell_type": "code",
   "execution_count": 54,
   "metadata": {},
   "outputs": [
    {
     "name": "stdout",
     "output_type": "stream",
     "text": [
      "0.81964993\n"
     ]
    }
   ],
   "source": [
    "list1 = ['1', '2', '3', '4']\n",
    "list2 = ['43', '23', '12']\n",
    "list_siml = model.wv.n_similarity(list1, list2)\n",
    "print(list_siml)"
   ]
  },
  {
   "cell_type": "code",
   "execution_count": null,
   "metadata": {},
   "outputs": [],
   "source": []
  }
 ],
 "metadata": {
  "kernelspec": {
   "display_name": "Python 3",
   "language": "python",
   "name": "python3"
  },
  "language_info": {
   "codemirror_mode": {
    "name": "ipython",
    "version": 3
   },
   "file_extension": ".py",
   "mimetype": "text/x-python",
   "name": "python",
   "nbconvert_exporter": "python",
   "pygments_lexer": "ipython3",
   "version": "3.6.2"
  }
 },
 "nbformat": 4,
 "nbformat_minor": 4
}
